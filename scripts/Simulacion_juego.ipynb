{
 "cells": [
  {
   "cell_type": "code",
   "execution_count": 45,
   "metadata": {},
   "outputs": [],
   "source": [
    "import random\n",
    "import pandas as pd\n",
    "import numpy as np\n",
    "import os"
   ]
  },
  {
   "cell_type": "code",
   "execution_count": null,
   "metadata": {},
   "outputs": [],
   "source": []
  },
  {
   "cell_type": "markdown",
   "metadata": {},
   "source": [
    "# Funciones útiles\n",
    "En la siguiente sección se encuentran funciones útiles tanto para simular el juego, como para programar el desarrollador"
   ]
  },
  {
   "cell_type": "markdown",
   "metadata": {},
   "source": [
    "## Funciones simulación juego"
   ]
  },
  {
   "cell_type": "code",
   "execution_count": 2,
   "metadata": {},
   "outputs": [],
   "source": [
    "def evaluar_numero(guess, target):\n",
    "    '''\n",
    "    esta función evalúa cuántos puntos y famas obtiene\n",
    "    el jugador dado su adivinación \"guess\" y el \n",
    "    objetivo \"target\"\n",
    "    '''\n",
    "    guess_num = str(guess)\n",
    "    target_num = str(target)\n",
    "    n = len(target_num)\n",
    "    puntos = 0\n",
    "    famas = 0\n",
    "    for i in range(n):\n",
    "        if guess_num[i] in target_num:\n",
    "            puntos += 1\n",
    "            \n",
    "        if guess_num[i] == target_num[i]:\n",
    "            famas += 1\n",
    "            puntos -= 1\n",
    "    \n",
    "    return puntos, famas\n",
    "    \n",
    "def print_puntos_famas(puntos, famas):\n",
    "    '''\n",
    "    Esta función imprime los puntos y las famas dados\n",
    "    como \"*\" para puntos y \"f\" para famas\n",
    "    '''\n",
    "    return \"*\"*puntos + \"f\"*famas\n",
    "\n",
    "def generar_numero_aleatorio(n=4):\n",
    "    '''\n",
    "    Genera un número aleatorio de n cifras sin repetir\n",
    "    entrega un string con tal número\n",
    "    '''\n",
    "    nums = [str(x) for x in range(10)]\n",
    "    randoms = random.sample(nums, n)\n",
    "    random_num = \"\".join(randoms)\n",
    "    return random_num"
   ]
  },
  {
   "cell_type": "code",
   "execution_count": 5,
   "metadata": {},
   "outputs": [],
   "source": [
    "def jugar_punto_y_fama(n=4, target = \"random\"):\n",
    "    \"\"\"\n",
    "    Simular el juego de punto y fama.\n",
    "    La consola le solicitará al usuario sus adivinaciones\n",
    "    Si la adivinación es 'exit', 'end' o 'finish' el juego termina\n",
    "    Si la adivinación es 'target' o 'show' se imprimirá el target. \n",
    "    \n",
    "    Parameters:\n",
    "    -----------\n",
    "    n : int\n",
    "        el número de dígitos del número a adivinar (default is False)\n",
    "    target : str\n",
    "        el valor objetivo del juego. si \"random\" se generará un valor aleatorio\n",
    "        o el usuario puede pasar el propio target\n",
    "    \n",
    "    \"\"\"\n",
    "    if target == \"random\":\n",
    "        target =generar_numero_aleatorio(n)\n",
    "        \n",
    "    guessed = False\n",
    "    intentos = 0\n",
    "    while not guessed:\n",
    "\n",
    "        guess_num = input(\"ingrese su número: \")\n",
    "        \n",
    "        # special cases in the input to finish the game or show the target\n",
    "        if guess_num in [\"exit\", \"end\", \"finish\"]:\n",
    "            print(f\"saliendo el juego en {intentos} intentos\")\n",
    "            break\n",
    "        if guess_num in [\"target\", \"show\"]:\n",
    "            print(f\"el número a encontrar es {target}\")\n",
    "            continue\n",
    "        \n",
    "        intentos += 1\n",
    "        puntos, famas = evaluar_numero(guess_num, target)\n",
    "        print(f\"[{intentos}]\",guess_num, print_puntos_famas(puntos, famas))\n",
    "        if famas == n:\n",
    "            print(f\"Felicidades, encontró el número en {intentos} intentos\")\n",
    "            guessed = True"
   ]
  },
  {
   "cell_type": "code",
   "execution_count": null,
   "metadata": {},
   "outputs": [],
   "source": []
  },
  {
   "cell_type": "markdown",
   "metadata": {},
   "source": [
    "## Funciones Solucionador\n",
    "En la siguiente sección encontrará funciones necesarias para programar el solucionador. \n",
    "Estas funciones se basan en tomar una lista de posibles soluciones y eliminar o mantener sólo, las opciones que lógicamente debe descartar o mantener."
   ]
  },
  {
   "cell_type": "markdown",
   "metadata": {},
   "source": [
    "### Funciones para desechar/filtrar/mantener opciones deseadas"
   ]
  },
  {
   "cell_type": "code",
   "execution_count": 29,
   "metadata": {},
   "outputs": [],
   "source": [
    "# Delete all rows that contains a number k\n",
    "def delete_allcomb_containing_k(possibles, k):\n",
    "    # Delete all rows that contains a number k\n",
    "    left_possibles = possibles[~possibles.combinacion.str.contains(k)]\n",
    "    return left_possibles\n",
    "\n",
    "\n",
    "def keep_allcomb_containing_k(possibles, k):\n",
    "    # Delete all rows that dont contain a number k\n",
    "    left_possibles = possibles[possibles.combinacion.str.contains(k)]\n",
    "    return left_possibles\n",
    "\n",
    "\n",
    "def delete_allcomb_containing_any_in_group(possibles, group):\n",
    "    # delete all rows that contain any element from the group\n",
    "    left_possibles = possibles.copy()\n",
    "    for elem2delete in group:\n",
    "        left_possibles = left_possibles[~left_possibles.combinacion.str.contains(elem2delete)]\n",
    "    return left_possibles\n",
    "\n",
    "\n",
    "def delete_allcomb_containing_all_in_group(possibles, group):\n",
    "    # delete all rows that contain all elements from the group\n",
    "    left_possibles = possibles.copy()\n",
    "    len_group = len(group)\n",
    "    left_possibles[\"num_contained\"] = 0\n",
    "    for elem in group:\n",
    "        left_possibles['num_contained'] += left_possibles.combinacion.apply(lambda x: elem in x)+0        \n",
    "    left_possibles = left_possibles[left_possibles.num_contained!=len_group]\n",
    "    return left_possibles\n",
    "\n",
    "\n",
    "def keep_allcomb_containing_any_in_group(possibles, group):\n",
    "    # keep all rows that contain any elements from the group\n",
    "    left_possibles = possibles.copy()\n",
    "    len_group = len(group)\n",
    "    left_possibles[\"num_contained\"] = 0\n",
    "    for elem in group:\n",
    "        left_possibles['num_contained'] += left_possibles.combinacion.apply(lambda x: elem in x)+0        \n",
    "    left_possibles = left_possibles[left_possibles.num_contained>0]\n",
    "    return left_possibles\n",
    "    \n",
    "    \n",
    "def keep_allcomb_containing_all_in_group(possibles, group):\n",
    "    # remain all rows that contain all elements from the group\n",
    "    left_possibles = possibles.copy()\n",
    "    for elem2delete in group:\n",
    "        left_possibles = left_possibles[left_possibles.combinacion.str.contains(elem2delete)]\n",
    "    return left_possibles\n",
    "\n",
    "\n",
    "def delete_allcomb_containing_ordered_guess(possibles, guess):\n",
    "    # delete all cambinations that contains the elements in giess in the\n",
    "    # same order. Used one a guess number returns just points. \n",
    "    left_possibles = possibles.copy()\n",
    "    for i, elem in enumerate(guess):\n",
    "        left_possibles = left_possibles[~(left_possibles.combinacion.str[i] == elem)]\n",
    "    return left_possibles\n",
    "\n",
    "\n",
    "def keep_combinations_containing_kpoints_from_group(possibles, group, k):\n",
    "    # this function will count the number of elements from group, present in \n",
    "    # every combination of possibles. The combinations that have more than k\n",
    "    # elements from group, are going to be deleted. The combinations that have\n",
    "    # exactly k elements from group, will be kept and returned\n",
    "    left_possibles = possibles.copy()\n",
    "    left_possibles[\"num_contained\"] = 0\n",
    "    for elem in group:\n",
    "        left_possibles['num_contained'] += left_possibles.combinacion.apply(lambda x: elem in x)+0        \n",
    "    left_possibles = left_possibles[left_possibles.num_contained==k]\n",
    "    return left_possibles\n",
    "\n",
    "\n",
    "def delete_combination(possibles, combination):\n",
    "    return possibles[possibles.combinacion!=combination]\n",
    "\n",
    "\n",
    "def get_indexes(vec, target = 1):\n",
    "    # this function returns a list containing all the indexes \n",
    "    # where vec[index] == target\n",
    "    indexes = []\n",
    "    for idx, elem in enumerate(vec):\n",
    "        if elem==target:\n",
    "            indexes.append(idx)\n",
    "    return indexes\n"
   ]
  },
  {
   "cell_type": "code",
   "execution_count": 33,
   "metadata": {},
   "outputs": [],
   "source": [
    "def get_binary_groups(n, num_ones):\n",
    "    # esta función genera los grupos posibles de cómo \n",
    "    # combinar num_famas unos, en un grupo de n elementos. \n",
    "    # los demás elementos serán 0s.\n",
    "    num_ceros = n-num_ones\n",
    "    stuff = [0] * num_ceros + [1]*num_ones\n",
    "    \n",
    "    subsets = set()\n",
    "    for permut in itertools.permutations(stuff, n):\n",
    "        subsets.add(permut)\n",
    "    return list(subsets)\n",
    "\n",
    "\n",
    "def delete_combinations_containing_elems_in_positions(possibles, guess, group):\n",
    "    # this function deletes the combinations that contains certain elements\n",
    "    # in the given positions. The elements come from the parameter \"guess\"\n",
    "    # the given positions come from the parameter 'group'. \n",
    "    # The elements where group is 1 will be deleted. \n",
    "\n",
    "    left_possibles = possibles.copy() \n",
    "\n",
    "    # generate a query to identify the elements that fit the conditions\n",
    "    left_possibles['delete'] = 0\n",
    "    queries = []\n",
    "    one_indexes =get_indexes(group)\n",
    "    for index in one_indexes:\n",
    "        actual_query = f'num{index+1} == \"{guess[index]}\"'\n",
    "        queries.append(actual_query)\n",
    "    \n",
    "    final_query = \" & \".join(queries)\n",
    "#     print(final_query)\n",
    "\n",
    "    # Get the indexes of the elements that fit the conditions of the final_query\n",
    "    indexes2delete = left_possibles.query(final_query).index.values\n",
    "    left_possibles.loc[indexes2delete, 'delete'] = 1\n",
    "\n",
    "    # delete the combinations that fit the conditions\n",
    "    left_possibles = left_possibles[left_possibles['delete']==0]\n",
    "    \n",
    "    return left_possibles\n",
    "\n",
    "\n",
    "def delete_fames(possibles, guess, num_famas):\n",
    "    left_possibles = possibles.copy()\n",
    "    n = len(guess)\n",
    "    # cambiar el nombre de la siguiente por binary_groups en vez de sólo groups\n",
    "    groups = get_binary_groups(n, num_famas+1)  # se borrarán las agrupaciones de num_famas+1   \n",
    "    for group in groups:\n",
    "        left_possibles = delete_combinations_containing_elems_in_positions(left_possibles, guess, group)\n",
    "#         print(left_possibles.shape)\n",
    "    return left_possibles\n",
    "\n",
    "\n",
    "def delete_impossible_groups(possibles, guess, score):\n",
    "    left_possibles = possibles.copy()\n",
    "    n = len(guess)\n",
    "    binary_groups = get_binary_groups(n, score+1)  # se borrarán las agrupaciones de num_famas+1   \n",
    "    for binary_group in binary_groups:\n",
    "        group = [guess[i] for i,x in enumerate(binary_group) if x==1]\n",
    "        left_possibles = delete_allcomb_containing_all_in_group(left_possibles, group)\n",
    "    return left_possibles\n"
   ]
  },
  {
   "cell_type": "code",
   "execution_count": null,
   "metadata": {},
   "outputs": [],
   "source": []
  },
  {
   "cell_type": "markdown",
   "metadata": {},
   "source": [
    "### Funciones para ejecutar diferentes estrategias\n",
    "En esta sección encontrará distintas estrategias programadas. Esto simula las acciones que haría un jugador, dada una estrategia que se quiera representar"
   ]
  },
  {
   "cell_type": "code",
   "execution_count": 35,
   "metadata": {},
   "outputs": [],
   "source": [
    "# REFACTORIZAR PARA BORRAR EL PARÁMETRO n EN ESTAS FUNCIONES\n",
    "\n",
    "def get_random_guess(possibles, n=4, seed=23):\n",
    "    \"\"\"\n",
    "    Esta función generará una adivinación aleatoria de todas las posibles\n",
    "    \n",
    "    Parameters:\n",
    "    -----------\n",
    "    possibles : Pandas DataFrame\n",
    "        dataframe con todas las combinaciones posibles restantes\n",
    "    \n",
    "    n : int\n",
    "        este parámetro no está teniendo efecto. REFACTOR Y BORRAR \n",
    "    \n",
    "    seed : int\n",
    "        semilla del aleatorio para reproducir los experimentos\n",
    "    \"\"\"\n",
    "    random.seed(seed)\n",
    "    return random.choice(possibles.combinacion.values)\n",
    "\n",
    "def get_greedy_guess(possibles, n=4):\n",
    "    \"\"\"\n",
    "    Esta función generará una adivinación dadas las posibles\n",
    "    combinaciones en el dataframe possibles. \n",
    "    Identifica cuál es el número más posible en la primera posición\n",
    "    y genera un resultado con ese número de primero. Luego identifica\n",
    "    el más posible en la segunda posición, de los restantes, y así arma \n",
    "    toda la solución\n",
    "    \n",
    "    Parameters:\n",
    "    -----------\n",
    "    possibles : Pandas DataFrame\n",
    "        dataframe con todas las combinaciones posibles restantes\n",
    "    \n",
    "    n : int\n",
    "        este parámetro se puede deducir de possibles. REFACTOR Y BORRAR \n",
    "    \n",
    "    \"\"\"\n",
    "    guess = \"\"\n",
    "    possibles_filtered = possibles.copy()\n",
    "    for i in range(n):\n",
    "#         print(i)\n",
    "        guess+=(possibles_filtered.groupby(f'num{i+1}')[['combinacion']].count().sort_values(by='combinacion', ascending=False).reset_index().iloc[0, 0])\n",
    "        possibles_filtered = possibles_filtered[possibles_filtered[f'num{i+1}']==guess[i]]\n",
    "    return guess\n",
    "\n",
    "def get_guess(possibles, n, method='greedy'):\n",
    "    if method == 'greedy':\n",
    "        return get_greedy_guess(possibles, n)\n",
    "    if method == 'random':\n",
    "        return get_random_guess(possibles, n)\n",
    "\n"
   ]
  },
  {
   "cell_type": "code",
   "execution_count": null,
   "metadata": {},
   "outputs": [],
   "source": []
  },
  {
   "cell_type": "markdown",
   "metadata": {},
   "source": [
    "# Probar al solucionador\n",
    "En la siguiente sección, el solucionador adivinará un número del usuario\n",
    "Ideal para jugar con otros amigos para ver si la máquina resuelve antes que un amigo\n"
   ]
  },
  {
   "cell_type": "code",
   "execution_count": 109,
   "metadata": {},
   "outputs": [],
   "source": [
    "n=7"
   ]
  },
  {
   "cell_type": "code",
   "execution_count": 110,
   "metadata": {},
   "outputs": [
    {
     "data": {
      "text/plain": [
       "'..\\\\combinations_files\\\\all_combinations_size_7.csv'"
      ]
     },
     "execution_count": 110,
     "metadata": {},
     "output_type": "execute_result"
    }
   ],
   "source": [
    "# Leer el df_posibles de acuerdo al n\n",
    "combinations_files_path = os.path.join('..', 'combinations_files')\n",
    "combinations_files_path\n",
    "combination_path = os.path.join(combinations_files_path, f\"all_combinations_size_{n}.csv\")\n",
    "combination_path"
   ]
  },
  {
   "cell_type": "code",
   "execution_count": 111,
   "metadata": {},
   "outputs": [
    {
     "data": {
      "text/plain": [
       "(604800, 8)"
      ]
     },
     "execution_count": 111,
     "metadata": {},
     "output_type": "execute_result"
    }
   ],
   "source": [
    "df_all_combinations = pd.read_csv(combination_path, sep=';')\n",
    "df_all_combinations.shape"
   ]
  },
  {
   "cell_type": "code",
   "execution_count": 112,
   "metadata": {},
   "outputs": [
    {
     "data": {
      "text/plain": [
       "combinacion    object\n",
       "num1           object\n",
       "num2           object\n",
       "num3           object\n",
       "num4           object\n",
       "num5           object\n",
       "num6           object\n",
       "num7           object\n",
       "dtype: object"
      ]
     },
     "execution_count": 112,
     "metadata": {},
     "output_type": "execute_result"
    }
   ],
   "source": [
    "# transformar todas las columnas a object. Como leyó números\n",
    "# las trae numéricas por defecto\n",
    "for col in df_all_combinations:\n",
    "    df_all_combinations[col] = df_all_combinations[col].astype(str)\n",
    "df_all_combinations.dtypes"
   ]
  },
  {
   "cell_type": "code",
   "execution_count": 113,
   "metadata": {},
   "outputs": [],
   "source": [
    "# transformación para recuperar el 0 del frente\n",
    "df_all_combinations['combinacion'] = df_all_combinations['combinacion'].apply(lambda x: '0'+x if len(x)<n else x)"
   ]
  },
  {
   "cell_type": "code",
   "execution_count": 114,
   "metadata": {},
   "outputs": [
    {
     "data": {
      "text/plain": [
       "(604800, 8)"
      ]
     },
     "execution_count": 114,
     "metadata": {},
     "output_type": "execute_result"
    }
   ],
   "source": [
    "df_posibles = df_all_combinations.copy()\n",
    "df_posibles.shape"
   ]
  },
  {
   "cell_type": "code",
   "execution_count": 115,
   "metadata": {},
   "outputs": [],
   "source": [
    "# transformación para recuperar el 0 del frente\n",
    "df_posibles['combinacion'] = df_posibles['combinacion'].astype('str')\n",
    "df_posibles['combinacion'] = df_posibles['combinacion'].apply(lambda x: '0'+x if len(x)<n else x)"
   ]
  },
  {
   "cell_type": "code",
   "execution_count": 116,
   "metadata": {},
   "outputs": [
    {
     "name": "stdout",
     "output_type": "stream",
     "text": [
      "0123456\n",
      "ingrese puntos y famas separados por espacio 3 2\n",
      "[1] 0123456 ***ff\n",
      "(317520, 9) keep combinations containing kpoints\n",
      "(307314, 10) se quitaron elementos de acuerdo al número de famas\n",
      "1270384\n",
      "ingrese puntos y famas separados por espacio 5 0\n",
      "[2] 1270384 *****\n",
      "(146340, 10) keep combinations containing kpoints\n",
      "(69694, 10) se quitaron elementos de acuerdo al número de famas\n",
      "2394705\n",
      "ingrese puntos y famas separados por espacio 4 0\n",
      "[3] 2394705 ****\n",
      "(23273, 10) keep combinations containing kpoints\n",
      "(11845, 10) se quitaron elementos de acuerdo al número de famas\n",
      "8641092\n",
      "ingrese puntos y famas separados por espacio 2 2\n",
      "[4] 8641092 **ff\n",
      "(3564, 10) keep combinations containing kpoints\n",
      "(3481, 10) se quitaron elementos de acuerdo al número de famas\n",
      "3758160\n",
      "ingrese puntos y famas separados por espacio 7 0\n",
      "[5] 3758160 *******\n",
      "(1173, 10) keep combinations containing kpoints\n",
      "(325, 10) se quitaron elementos de acuerdo al número de famas\n",
      "7081536\n",
      "ingrese puntos y famas separados por espacio 6 1\n",
      "[6] 7081536 ******f\n",
      "(325, 10) keep combinations containing kpoints\n",
      "(173, 10) se quitaron elementos de acuerdo al número de famas\n",
      "0536817\n",
      "ingrese puntos y famas separados por espacio 3 4\n",
      "[7] 0536817 ***ffff\n",
      "(173, 10) keep combinations containing kpoints\n",
      "(164, 10) se quitaron elementos de acuerdo al número de famas\n",
      "5803617\n",
      "ingrese puntos y famas separados por espacio 6 1\n",
      "[8] 5803617 ******f\n",
      "(164, 10) keep combinations containing kpoints\n",
      "(75, 10) se quitaron elementos de acuerdo al número de famas\n",
      "0615837\n",
      "ingrese puntos y famas separados por espacio 3 4\n",
      "[9] 0615837 ***ffff\n",
      "(75, 10) keep combinations containing kpoints\n",
      "(72, 10) se quitaron elementos de acuerdo al número de famas\n",
      "6501873\n",
      "ingrese puntos y famas separados por espacio 5 2\n",
      "[10] 6501873 *****ff\n",
      "(72, 10) keep combinations containing kpoints\n",
      "(49, 10) se quitaron elementos de acuerdo al número de famas\n",
      "8567013\n",
      "ingrese puntos y famas separados por espacio 7 0\n",
      "[11] 8567013 *******\n",
      "(49, 10) keep combinations containing kpoints\n",
      "(7, 10) se quitaron elementos de acuerdo al número de famas\n",
      "0631857\n",
      "ingrese puntos y famas separados por espacio 0 7\n",
      "[12] 0631857 fffffff\n",
      "Felicidades, encontró el número en 12 intentos\n"
     ]
    }
   ],
   "source": [
    "guessed = False\n",
    "intentos = 0\n",
    "\n",
    "\n",
    "while not guessed:\n",
    "    actual_guess = get_greedy_guess(df_posibles, n)\n",
    "    print(actual_guess)\n",
    "    \n",
    "    intentos += 1\n",
    "    puntos, famas = [int(x) for x in input('ingrese puntos y famas separados por espacio ').split()]#evaluar_numero(actual_guess, target)\n",
    "    \n",
    "    \n",
    "    print(f\"[{intentos}]\",actual_guess, print_puntos_famas(puntos, famas))\n",
    "    if famas == n:\n",
    "        print(f\"Felicidades, encontró el número en {intentos} intentos\")\n",
    "        guessed = True\n",
    "        break\n",
    "    \n",
    "    score = puntos+famas # los dos puntos recibidos\n",
    "\n",
    "    df_posibles = keep_combinations_containing_kpoints_from_group(df_posibles, actual_guess, score)\n",
    "    print(df_posibles.shape, \"keep combinations containing kpoints\")\n",
    "\n",
    "    # delete according to the number of fames\n",
    "    df_posibles = delete_fames(df_posibles, actual_guess, famas)\n",
    "    print(df_posibles.shape, \"se quitaron elementos de acuerdo al número de famas\")\n",
    "    \n",
    "#     if famas == 0:\n",
    "#         df_posibles = delete_allcomb_containing_ordered_guess(df_posibles, actual_guess)\n",
    "#         print(df_posibles.shape, \"se quitó adivinación ordenada por 0 famas\")\n",
    "    if score == n:\n",
    "        df_posibles = delete_combination(df_posibles, actual_guess)\n",
    "    \n",
    "    \n",
    "    if famas == n:\n",
    "        print(f\"Felicidades, encontró el número en {intentos} intentos\")\n",
    "        guessed = True\n",
    "        break"
   ]
  },
  {
   "cell_type": "code",
   "execution_count": null,
   "metadata": {},
   "outputs": [],
   "source": [
    "\"\"\"\n",
    "## REFACTORIZAR EL CÓDIGO ANTERIOR:\n",
    "\n",
    "1. Que sea una función que puedo ejecutar\n",
    "\n",
    "2. Que no saque error si el usuario ingresa algo equivocado\n",
    "que en vez de ello, lo mencione en el mensaje y ya.\n",
    "\n",
    "\"\"\"\n"
   ]
  },
  {
   "cell_type": "code",
   "execution_count": null,
   "metadata": {},
   "outputs": [],
   "source": []
  },
  {
   "cell_type": "code",
   "execution_count": null,
   "metadata": {},
   "outputs": [],
   "source": []
  }
 ],
 "metadata": {
  "kernelspec": {
   "display_name": "Python 3",
   "language": "python",
   "name": "python3"
  },
  "language_info": {
   "codemirror_mode": {
    "name": "ipython",
    "version": 3
   },
   "file_extension": ".py",
   "mimetype": "text/x-python",
   "name": "python",
   "nbconvert_exporter": "python",
   "pygments_lexer": "ipython3",
   "version": "3.7.1"
  }
 },
 "nbformat": 4,
 "nbformat_minor": 2
}
