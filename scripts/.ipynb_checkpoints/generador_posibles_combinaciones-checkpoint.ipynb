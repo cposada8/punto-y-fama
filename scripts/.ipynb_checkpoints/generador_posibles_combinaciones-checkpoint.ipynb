{
 "cells": [
  {
   "cell_type": "code",
   "execution_count": 61,
   "metadata": {},
   "outputs": [],
   "source": [
    "import itertools\n",
    "import pandas as pd\n",
    "import os"
   ]
  },
  {
   "cell_type": "markdown",
   "metadata": {},
   "source": [
    "Este notebook genera los archivos necesarios con todas las combinaciones para que el notebook que permite jugar no los genere sino que sólo los lea.\n",
    "\n",
    "Las combinaciones posibles dependen del número de dígitos. \n",
    "\n",
    "Teniendo en cuenta que sólo hay 10 dígitos (0, 1, 2,..., 9) y que no se puede repetir dígito tenemos que:  \n",
    "Para n=4 (4 dígitos) tendríamos 10\\*9\\*8\\*7 combinaciones posibles. \n",
    "\n"
   ]
  },
  {
   "cell_type": "code",
   "execution_count": null,
   "metadata": {},
   "outputs": [],
   "source": []
  },
  {
   "cell_type": "code",
   "execution_count": 56,
   "metadata": {},
   "outputs": [],
   "source": [
    "def generar_df_posibles(stuff, n):\n",
    "    \n",
    "    # generar las combinaciones posibles\n",
    "    subsets = []\n",
    "    contador = 1\n",
    "    for subset in itertools.combinations(stuff, n):\n",
    "        for permut in itertools.permutations(subset, n):\n",
    "            #print(contador, permut)\n",
    "            subsets.append(permut)\n",
    "            contador+=1\n",
    "            \n",
    "    # hacer un concatenado de cada combinación\n",
    "    all_combinations = [\"\".join(subset) for subset in subsets]\n",
    "    \n",
    "    # hacer el dataframe\n",
    "    df_all_combinations = pd.DataFrame(all_combinations, columns=[\"combinacion\"])\n",
    "    # generate columns for each number of the combination\n",
    "    for i in range(n):\n",
    "        df_all_combinations[f'num{i+1}'] = df_all_combinations.combinacion.apply(lambda x: x[i])\n",
    "    \n",
    "    return df_all_combinations"
   ]
  },
  {
   "cell_type": "code",
   "execution_count": null,
   "metadata": {},
   "outputs": [],
   "source": []
  },
  {
   "cell_type": "code",
   "execution_count": 74,
   "metadata": {},
   "outputs": [
    {
     "data": {
      "text/plain": [
       "['0', '1', '2', '3', '4', '5', '6', '7', '8', '9']"
      ]
     },
     "execution_count": 74,
     "metadata": {},
     "output_type": "execute_result"
    }
   ],
   "source": [
    "# todos los posibles dígitos\n",
    "stuff = [str(x) for x in range(10)]\n",
    "stuff"
   ]
  },
  {
   "cell_type": "code",
   "execution_count": 75,
   "metadata": {},
   "outputs": [
    {
     "data": {
      "text/plain": [
       "'..\\\\combinations_files'"
      ]
     },
     "execution_count": 75,
     "metadata": {},
     "output_type": "execute_result"
    }
   ],
   "source": [
    "combinations_files_path = os.path.join('..', 'combinations_files')\n",
    "combinations_files_path"
   ]
  },
  {
   "cell_type": "code",
   "execution_count": 78,
   "metadata": {},
   "outputs": [
    {
     "name": "stdout",
     "output_type": "stream",
     "text": [
      "generando las combinaciones de tamaño 1\n",
      "generando las combinaciones de tamaño 2\n",
      "generando las combinaciones de tamaño 3\n",
      "generando las combinaciones de tamaño 4\n",
      "generando las combinaciones de tamaño 5\n",
      "generando las combinaciones de tamaño 6\n",
      "generando las combinaciones de tamaño 7\n",
      "generando las combinaciones de tamaño 8\n",
      "generando las combinaciones de tamaño 9\n",
      "generando las combinaciones de tamaño 10\n"
     ]
    }
   ],
   "source": [
    "for n in range(1, 9):\n",
    "    print(f'generando las combinaciones de tamaño {n}')\n",
    "    \n",
    "    # generar todas las combinaciones\n",
    "    df_all_combinations = generar_df_posibles(stuff, n)\n",
    "    combination_path = os.path.join(combinations_files_path, f\"all_combinations_size_{n}.csv\")\n",
    "\n",
    "    # guardar el dataframe\n",
    "    df_all_combinations.to_csv(combination_path, sep=\";\", index=False)"
   ]
  },
  {
   "cell_type": "code",
   "execution_count": 77,
   "metadata": {},
   "outputs": [
    {
     "data": {
      "text/plain": [
       "604800"
      ]
     },
     "execution_count": 77,
     "metadata": {},
     "output_type": "execute_result"
    }
   ],
   "source": [
    "10*9*8*7*6*5*4"
   ]
  },
  {
   "cell_type": "code",
   "execution_count": null,
   "metadata": {},
   "outputs": [],
   "source": []
  },
  {
   "cell_type": "code",
   "execution_count": null,
   "metadata": {},
   "outputs": [],
   "source": []
  },
  {
   "cell_type": "code",
   "execution_count": null,
   "metadata": {},
   "outputs": [],
   "source": []
  },
  {
   "cell_type": "code",
   "execution_count": null,
   "metadata": {},
   "outputs": [],
   "source": []
  },
  {
   "cell_type": "code",
   "execution_count": null,
   "metadata": {},
   "outputs": [],
   "source": []
  },
  {
   "cell_type": "code",
   "execution_count": null,
   "metadata": {},
   "outputs": [],
   "source": []
  },
  {
   "cell_type": "code",
   "execution_count": null,
   "metadata": {},
   "outputs": [],
   "source": []
  }
 ],
 "metadata": {
  "kernelspec": {
   "display_name": "Python 3",
   "language": "python",
   "name": "python3"
  },
  "language_info": {
   "codemirror_mode": {
    "name": "ipython",
    "version": 3
   },
   "file_extension": ".py",
   "mimetype": "text/x-python",
   "name": "python",
   "nbconvert_exporter": "python",
   "pygments_lexer": "ipython3",
   "version": "3.7.1"
  }
 },
 "nbformat": 4,
 "nbformat_minor": 2
}
